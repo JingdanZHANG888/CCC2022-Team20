{
 "cells": [
  {
   "cell_type": "markdown",
   "id": "d60f6c79",
   "metadata": {},
   "source": [
    "## Twitter Harvest"
   ]
  },
  {
   "cell_type": "markdown",
   "id": "05c830f9",
   "metadata": {},
   "source": [
    "Reference: \\\n",
    "housing key words: https://www.wordstream.com/popular-keywords/real-estate-keywords?aliId=eyJpIjoiZXQwMHhlbHc5WTBEdksxSSIsInQiOiJiT01uUkVrY0M4eTFRSDh0ZWc2bG13PT0ifQ%253D%253D \\\n",
    "income key words: https://www.thesaurus.com/browse/income"
   ]
  },
  {
   "cell_type": "code",
   "execution_count": 21,
   "id": "cfc557c6",
   "metadata": {},
   "outputs": [
    {
     "name": "stderr",
     "output_type": "stream",
     "text": [
      "[nltk_data] Downloading package vader_lexicon to\n",
      "[nltk_data]     /Users/sicenxi/nltk_data...\n",
      "[nltk_data]   Package vader_lexicon is already up-to-date!\n"
     ]
    },
    {
     "data": {
      "text/plain": [
       "True"
      ]
     },
     "execution_count": 21,
     "metadata": {},
     "output_type": "execute_result"
    }
   ],
   "source": [
    "import datetime\n",
    "import time\n",
    "import json\n",
    "import random\n",
    "import couchdb\n",
    "import tweepy\n",
    "import sys\n",
    "import nltk\n",
    "from nltk.sentiment.vader import SentimentIntensityAnalyzer\n",
    "\n",
    "nltk.download('vader_lexicon')"
   ]
  },
  {
   "cell_type": "code",
   "execution_count": 53,
   "id": "89c59892",
   "metadata": {},
   "outputs": [],
   "source": [
    "FMT = '%Y-%m-%d %H:%M:%S'\n",
    "LIMIT_IN_SEC = 600\n",
    "WAIT = 60\n",
    "NOW = datetime.datetime.now().strftime(FMT)\n",
    "\n",
    "url = \"http://172.26.131.170:5984\"\n",
    "user = \"admin\"\n",
    "password = '170645'\n",
    "\n",
    "# Latitude and longitude coordinates\n",
    "mel_geo = '-37.840935,144.946457,200km'\n",
    "syd_geo = '-33.867487,151.206990,200km'"
   ]
  },
  {
   "cell_type": "code",
   "execution_count": 68,
   "id": "53d5f972",
   "metadata": {},
   "outputs": [],
   "source": [
    "# initialize twitter keys state\n",
    "f1 = open('twitter_keys.json')\n",
    "twitter_keys = json.load(f1)\n",
    "current_datetime = datetime.datetime.now().strftime('%Y-%m-%d %H:%M:%S')\n",
    "for i in range(4):\n",
    "    twitter_keys[\"keys\"][i][\"last_used\"] = '2022-04-10 00:00:00'\n",
    "    twitter_keys[\"keys\"][i][\"flag\"] = 'False'\n",
    "a_file = open('twitter_keys.json', \"w\")\n",
    "json.dump(twitter_keys, a_file)\n",
    "a_file.close()\n",
    "\n",
    "# read files\n",
    "f2 = open('keywords.json')\n",
    "keywords = json.load(f2)"
   ]
  },
  {
   "cell_type": "code",
   "execution_count": 69,
   "id": "382a6b89",
   "metadata": {},
   "outputs": [],
   "source": [
    "def random20_keywords(key_word_file):\n",
    "    # random get 20 current key words for searching\n",
    "    housing_words = random.choices(key_word_file['housing'], k=10)\n",
    "    income_words = random.choices(key_word_file['income'], k=10)\n",
    "    mel_words = random.choices(key_word_file['Melbourne'], k=10)\n",
    "    # convert these keywords into a string\n",
    "    only_housing = '\" OR \"'.join(housing_words)\n",
    "    only_housing = '\"' + only_housing + '\"'\n",
    "    only_income = '\" OR \"'.join(income_words)\n",
    "    only_income = '\"' + only_income + '\"'\n",
    "    income_housing = only_housing + ' OR ' + only_income\n",
    "    mel_housing = '\" OR \"'.join(mel_words)\n",
    "    mel_housing = only_housing + ' OR \"' + mel_housing + '\"'\n",
    "    return income_housing"
   ]
  },
  {
   "cell_type": "code",
   "execution_count": 70,
   "id": "55e665e1",
   "metadata": {},
   "outputs": [],
   "source": [
    "def select_a_valid_twitter_key(twitter_keys_file):\n",
    "    f1 = open('twitter_keys.json')\n",
    "    twitter_keys = json.load(f1)\n",
    "    # get all valid twitter keys\n",
    "    current_valid_keys = []\n",
    "    least_wait_in_s = 0\n",
    "    get_key = []\n",
    "    while True:\n",
    "        for key in twitter_keys[\"keys\"]:\n",
    "            if key[\"flag\"] == \"False\":\n",
    "                current_valid_keys.append(key)\n",
    "        if len(current_valid_keys) == 0:\n",
    "            print(\"Wait \" + str(WAIT) + \" seconds for Available Twitter Key\")\n",
    "            time.sleep(WAIT)\n",
    "        else:\n",
    "            for valid_key in current_valid_keys:\n",
    "                duration = datetime.datetime.now() - datetime.datetime.strptime(valid_key[\"last_used\"], FMT)\n",
    "                duration_in_s = duration.total_seconds()\n",
    "                \n",
    "                if duration_in_s >= LIMIT_IN_SEC:\n",
    "                    get_key.append(valid_key)\n",
    "                    position = get_key[0][\"id\"] - 1\n",
    "                    print(\"Find a valid twitter key: \", get_key[0][\"id\"])\n",
    "                    \n",
    "                    # get twitter API\n",
    "                    consumer_key = get_key[0][\"detail\"][\"TWITTER_API_KEY\"]\n",
    "                    consumer_secret = get_key[0][\"detail\"][\"TWITTER_API_KEY_SECRET\"]\n",
    "                    bearer_token = get_key[0][\"detail\"][\"TWITTER_BEARER_TOKEN\"]\n",
    "                    access_token = get_key[0][\"detail\"][\"TWITTER_ACCESS_TOKEN\"]\n",
    "                    access_token_secret = get_key[0][\"detail\"][\"TWITTER_ACCESS_SECRET\"]\n",
    "                    auth = tweepy.OAuthHandler(consumer_key, consumer_secret)\n",
    "                    auth.set_access_token(access_token, access_token_secret)\n",
    "                    api = tweepy.API(auth)\n",
    "                    \n",
    "                    # update the selected twitter key's state\n",
    "                    print(\"Get a Valid twitter key and Updated its state\")\n",
    "                    with open('twitter_keys.json', 'r') as f:\n",
    "                        update_key_state = json.load(f)\n",
    "                        keys = update_key_state['keys']\n",
    "                        keys[position]['flag'] = 'True'\n",
    "\n",
    "                    with open('twitter_keys.json', 'w') as f:\n",
    "                        json.dump(update_key_state, f, indent=2)\n",
    "                        \n",
    "                    return api, position\n",
    "                    \n",
    "                else:\n",
    "                    least_wait_in_s = max(least_wait_in_s, duration_in_s)\n",
    "                    \n",
    "            if len(get_key) == 0:\n",
    "                wait_time_in_s = LIMIT_IN_SEC - least_wait_in_s\n",
    "                print(\"Wait \" + str(wait_time_in_s) + \" seconds for Available Twitter key\")\n",
    "                time.sleep(wait_time_in_s)             \n",
    "                    "
   ]
  },
  {
   "cell_type": "code",
   "execution_count": 71,
   "id": "91efeaba",
   "metadata": {},
   "outputs": [],
   "source": [
    "def analysis_Twitter_Sentiment(text):\n",
    "    sentiment = 0\n",
    "    score = SentimentIntensityAnalyzer().polarity_scores(text)\n",
    "    neg = score['neg']\n",
    "    neu = score['neu']\n",
    "    pos = score['pos']\n",
    "    if neg > pos:\n",
    "        sentiment = 'negative'\n",
    "    elif pos > neg:\n",
    "        sentiment = 'positive'\n",
    "    elif pos == neg:\n",
    "        sentiment = 'neutral'\n",
    "    return sentiment"
   ]
  },
  {
   "cell_type": "code",
   "execution_count": 72,
   "id": "473a5998",
   "metadata": {},
   "outputs": [],
   "source": [
    "def harvest_tweets(tweets, dbname, key_position):\n",
    "    for tweet in tweets:\n",
    "            tweet_id = tweet.id\n",
    "            tweet_text = tweet.text\n",
    "            tweet_coord = tweet.coordinates\n",
    "            tweet_place = tweet.place\n",
    "            tweet_user_location = tweet.user.location\n",
    "            tweet_Date = tweet.created_at.date()\n",
    "            tweet_sentiment = analysis_Twitter_Sentiment(tweet_text)\n",
    "            tweet_info = {'id': str(tweet_id), \n",
    "                          'content': tweet_text, \n",
    "                          'coordinates': tweet_coord, \n",
    "                          'place': str(tweet_place),\n",
    "                          'user_location': tweet_user_location,\n",
    "                          'created_date': str(tweet_Date),\n",
    "                          'sentiment': tweet_sentiment\n",
    "                         } \n",
    "            print(tweet_info)\n",
    "    \n",
    "            # add to Couchdb\n",
    "            server = couchdb.Server(url)\n",
    "            # Set credentials if necessary\n",
    "            server.resource.credentials = (user, password)\n",
    "            if dbname not in server:\n",
    "                server.create(dbname)\n",
    "            db = server[dbname]\n",
    "            if str(tweet_info[\"id\"]) not in db:\n",
    "                tweet_info[\"_id\"] = str(tweet_info[\"id\"])\n",
    "                db.save(tweet_info)\n",
    "                #print(tweet_info)\n",
    "            print(\"Sucessfully saved to Couchdb:\", dbname)\n",
    "            \n",
    "            # update last used time of current twitter key\n",
    "            with open('twitter_keys.json', 'r') as f:\n",
    "                update_key_state = json.load(f)\n",
    "                keys = update_key_state['keys']\n",
    "                keys[key_position]['last_used'] = datetime.datetime.now().strftime(FMT)\n",
    "\n",
    "            with open('twitter_keys.json', 'w') as f:\n",
    "                json.dump(update_key_state, f, indent=2)"
   ]
  },
  {
   "cell_type": "code",
   "execution_count": 73,
   "id": "44aea6b6",
   "metadata": {},
   "outputs": [
    {
     "name": "stdout",
     "output_type": "stream",
     "text": [
      "Find a valid twitter key:  1\n",
      "Get a Valid twitter key and Updated its state\n",
      "Find a valid twitter key:  2\n",
      "Get a Valid twitter key and Updated its state\n",
      "Error:  429 Too Many Requests\n",
      "88 - Rate limit exceeded\n",
      "Find a valid twitter key:  3\n",
      "Get a Valid twitter key and Updated its state\n",
      "Find a valid twitter key:  4\n",
      "Get a Valid twitter key and Updated its state\n",
      "{'id': '1519954874867146755', 'content': \"This tastes so freaking good and I don't care why, but I legit feel better 😂😎 @MonsterEnergyAU does it come in a sl… https://t.co/cdibBjbsR4\", 'coordinates': None, 'place': 'None', 'user_location': 'Melbourne, Australia', 'created_date': '2022-04-29', 'sentiment': 'positive'}\n",
      "Sucessfully saved to Couchdb: twitter_sentiment\n",
      "{'id': '1519954831540375552', 'content': '@JJKALE2 The Distillery is of course a donor/supporter of LNP. \\n\\nAt the end of the day that probably means a net ze… https://t.co/2qnBN1A7KG', 'coordinates': None, 'place': 'None', 'user_location': 'Melbourne, Australia', 'created_date': '2022-04-29', 'sentiment': 'neutral'}\n",
      "Sucessfully saved to Couchdb: twitter_sentiment\n",
      "{'id': '1519954677252915201', 'content': \"@DougCameron51 Just here trying to survive on Jobseeker, paying almost 60% of my income on rent.... it'd be nice to… https://t.co/dSJv7DaVAi\", 'coordinates': None, 'place': 'None', 'user_location': 'Melbourne, Victoria', 'created_date': '2022-04-29', 'sentiment': 'positive'}\n"
     ]
    },
    {
     "ename": "KeyboardInterrupt",
     "evalue": "",
     "output_type": "error",
     "traceback": [
      "\u001b[0;31m---------------------------------------------------------------------------\u001b[0m",
      "\u001b[0;31mKeyboardInterrupt\u001b[0m                         Traceback (most recent call last)",
      "\u001b[0;32m/var/folders/3h/x2xrdjwn22bbdw5d98hd13w80000gn/T/ipykernel_21228/2625369867.py\u001b[0m in \u001b[0;36m<module>\u001b[0;34m\u001b[0m\n\u001b[1;32m     11\u001b[0m \u001b[0;32mwhile\u001b[0m \u001b[0;32mTrue\u001b[0m\u001b[0;34m:\u001b[0m\u001b[0;34m\u001b[0m\u001b[0;34m\u001b[0m\u001b[0m\n\u001b[1;32m     12\u001b[0m     \u001b[0;32mtry\u001b[0m\u001b[0;34m:\u001b[0m\u001b[0;34m\u001b[0m\u001b[0;34m\u001b[0m\u001b[0m\n\u001b[0;32m---> 13\u001b[0;31m         \u001b[0mharvest_tweets\u001b[0m\u001b[0;34m(\u001b[0m\u001b[0mmel_tweets\u001b[0m\u001b[0;34m,\u001b[0m \u001b[0;34m\"twitter_sentiment\"\u001b[0m\u001b[0;34m,\u001b[0m \u001b[0mposition\u001b[0m\u001b[0;34m)\u001b[0m\u001b[0;34m\u001b[0m\u001b[0;34m\u001b[0m\u001b[0m\n\u001b[0m\u001b[1;32m     14\u001b[0m         \u001b[0mharvest_tweets\u001b[0m\u001b[0;34m(\u001b[0m\u001b[0msyd_tweets\u001b[0m\u001b[0;34m,\u001b[0m \u001b[0;34m\"twitter_sentiment_syd\"\u001b[0m\u001b[0;34m,\u001b[0m \u001b[0mposition2\u001b[0m\u001b[0;34m)\u001b[0m\u001b[0;34m\u001b[0m\u001b[0;34m\u001b[0m\u001b[0m\n\u001b[1;32m     15\u001b[0m \u001b[0;34m\u001b[0m\u001b[0m\n",
      "\u001b[0;32m/var/folders/3h/x2xrdjwn22bbdw5d98hd13w80000gn/T/ipykernel_21228/3405088562.py\u001b[0m in \u001b[0;36mharvest_tweets\u001b[0;34m(tweets, dbname, position)\u001b[0m\n\u001b[1;32m     27\u001b[0m             \u001b[0;32mif\u001b[0m \u001b[0mstr\u001b[0m\u001b[0;34m(\u001b[0m\u001b[0mtweet_info\u001b[0m\u001b[0;34m[\u001b[0m\u001b[0;34m\"id\"\u001b[0m\u001b[0;34m]\u001b[0m\u001b[0;34m)\u001b[0m \u001b[0;32mnot\u001b[0m \u001b[0;32min\u001b[0m \u001b[0mdb\u001b[0m\u001b[0;34m:\u001b[0m\u001b[0;34m\u001b[0m\u001b[0;34m\u001b[0m\u001b[0m\n\u001b[1;32m     28\u001b[0m                 \u001b[0mtweet_info\u001b[0m\u001b[0;34m[\u001b[0m\u001b[0;34m\"_id\"\u001b[0m\u001b[0;34m]\u001b[0m \u001b[0;34m=\u001b[0m \u001b[0mstr\u001b[0m\u001b[0;34m(\u001b[0m\u001b[0mtweet_info\u001b[0m\u001b[0;34m[\u001b[0m\u001b[0;34m\"id\"\u001b[0m\u001b[0;34m]\u001b[0m\u001b[0;34m)\u001b[0m\u001b[0;34m\u001b[0m\u001b[0;34m\u001b[0m\u001b[0m\n\u001b[0;32m---> 29\u001b[0;31m                 \u001b[0mdb\u001b[0m\u001b[0;34m.\u001b[0m\u001b[0msave\u001b[0m\u001b[0;34m(\u001b[0m\u001b[0mtweet_info\u001b[0m\u001b[0;34m)\u001b[0m\u001b[0;34m\u001b[0m\u001b[0;34m\u001b[0m\u001b[0m\n\u001b[0m\u001b[1;32m     30\u001b[0m                 \u001b[0;31m#print(tweet_info)\u001b[0m\u001b[0;34m\u001b[0m\u001b[0;34m\u001b[0m\u001b[0m\n\u001b[1;32m     31\u001b[0m             \u001b[0mprint\u001b[0m\u001b[0;34m(\u001b[0m\u001b[0;34m\"Sucessfully saved to Couchdb:\"\u001b[0m\u001b[0;34m,\u001b[0m \u001b[0mdbname\u001b[0m\u001b[0;34m)\u001b[0m\u001b[0;34m\u001b[0m\u001b[0;34m\u001b[0m\u001b[0m\n",
      "\u001b[0;32m/opt/anaconda3/lib/python3.9/site-packages/couchdb/client.py\u001b[0m in \u001b[0;36msave\u001b[0;34m(self, doc, **options)\u001b[0m\n\u001b[1;32m    527\u001b[0m         \u001b[0;32melse\u001b[0m\u001b[0;34m:\u001b[0m\u001b[0;34m\u001b[0m\u001b[0;34m\u001b[0m\u001b[0m\n\u001b[1;32m    528\u001b[0m             \u001b[0mfunc\u001b[0m \u001b[0;34m=\u001b[0m \u001b[0mself\u001b[0m\u001b[0;34m.\u001b[0m\u001b[0mresource\u001b[0m\u001b[0;34m.\u001b[0m\u001b[0mpost_json\u001b[0m\u001b[0;34m\u001b[0m\u001b[0;34m\u001b[0m\u001b[0m\n\u001b[0;32m--> 529\u001b[0;31m         \u001b[0m_\u001b[0m\u001b[0;34m,\u001b[0m \u001b[0m_\u001b[0m\u001b[0;34m,\u001b[0m \u001b[0mdata\u001b[0m \u001b[0;34m=\u001b[0m \u001b[0mfunc\u001b[0m\u001b[0;34m(\u001b[0m\u001b[0mbody\u001b[0m\u001b[0;34m=\u001b[0m\u001b[0mdoc\u001b[0m\u001b[0;34m,\u001b[0m \u001b[0;34m**\u001b[0m\u001b[0moptions\u001b[0m\u001b[0;34m)\u001b[0m\u001b[0;34m\u001b[0m\u001b[0;34m\u001b[0m\u001b[0m\n\u001b[0m\u001b[1;32m    530\u001b[0m         \u001b[0mid\u001b[0m\u001b[0;34m,\u001b[0m \u001b[0mrev\u001b[0m \u001b[0;34m=\u001b[0m \u001b[0mdata\u001b[0m\u001b[0;34m[\u001b[0m\u001b[0;34m'id'\u001b[0m\u001b[0;34m]\u001b[0m\u001b[0;34m,\u001b[0m \u001b[0mdata\u001b[0m\u001b[0;34m.\u001b[0m\u001b[0mget\u001b[0m\u001b[0;34m(\u001b[0m\u001b[0;34m'rev'\u001b[0m\u001b[0;34m)\u001b[0m\u001b[0;34m\u001b[0m\u001b[0;34m\u001b[0m\u001b[0m\n\u001b[1;32m    531\u001b[0m         \u001b[0mdoc\u001b[0m\u001b[0;34m[\u001b[0m\u001b[0;34m'_id'\u001b[0m\u001b[0;34m]\u001b[0m \u001b[0;34m=\u001b[0m \u001b[0mid\u001b[0m\u001b[0;34m\u001b[0m\u001b[0;34m\u001b[0m\u001b[0m\n",
      "\u001b[0;32m/opt/anaconda3/lib/python3.9/site-packages/couchdb/http.py\u001b[0m in \u001b[0;36mput_json\u001b[0;34m(self, path, body, headers, **params)\u001b[0m\n\u001b[1;32m    575\u001b[0m \u001b[0;34m\u001b[0m\u001b[0m\n\u001b[1;32m    576\u001b[0m     \u001b[0;32mdef\u001b[0m \u001b[0mput_json\u001b[0m\u001b[0;34m(\u001b[0m\u001b[0mself\u001b[0m\u001b[0;34m,\u001b[0m \u001b[0mpath\u001b[0m\u001b[0;34m=\u001b[0m\u001b[0;32mNone\u001b[0m\u001b[0;34m,\u001b[0m \u001b[0mbody\u001b[0m\u001b[0;34m=\u001b[0m\u001b[0;32mNone\u001b[0m\u001b[0;34m,\u001b[0m \u001b[0mheaders\u001b[0m\u001b[0;34m=\u001b[0m\u001b[0;32mNone\u001b[0m\u001b[0;34m,\u001b[0m \u001b[0;34m**\u001b[0m\u001b[0mparams\u001b[0m\u001b[0;34m)\u001b[0m\u001b[0;34m:\u001b[0m\u001b[0;34m\u001b[0m\u001b[0;34m\u001b[0m\u001b[0m\n\u001b[0;32m--> 577\u001b[0;31m         return self._request_json('PUT', path, body=body, headers=headers,\n\u001b[0m\u001b[1;32m    578\u001b[0m                                   **params)\n\u001b[1;32m    579\u001b[0m \u001b[0;34m\u001b[0m\u001b[0m\n",
      "\u001b[0;32m/opt/anaconda3/lib/python3.9/site-packages/couchdb/http.py\u001b[0m in \u001b[0;36m_request_json\u001b[0;34m(self, method, path, body, headers, **params)\u001b[0m\n\u001b[1;32m    593\u001b[0m \u001b[0;34m\u001b[0m\u001b[0m\n\u001b[1;32m    594\u001b[0m     \u001b[0;32mdef\u001b[0m \u001b[0m_request_json\u001b[0m\u001b[0;34m(\u001b[0m\u001b[0mself\u001b[0m\u001b[0;34m,\u001b[0m \u001b[0mmethod\u001b[0m\u001b[0;34m,\u001b[0m \u001b[0mpath\u001b[0m\u001b[0;34m=\u001b[0m\u001b[0;32mNone\u001b[0m\u001b[0;34m,\u001b[0m \u001b[0mbody\u001b[0m\u001b[0;34m=\u001b[0m\u001b[0;32mNone\u001b[0m\u001b[0;34m,\u001b[0m \u001b[0mheaders\u001b[0m\u001b[0;34m=\u001b[0m\u001b[0;32mNone\u001b[0m\u001b[0;34m,\u001b[0m \u001b[0;34m**\u001b[0m\u001b[0mparams\u001b[0m\u001b[0;34m)\u001b[0m\u001b[0;34m:\u001b[0m\u001b[0;34m\u001b[0m\u001b[0;34m\u001b[0m\u001b[0m\n\u001b[0;32m--> 595\u001b[0;31m         status, headers, data = self._request(method, path, body=body,\n\u001b[0m\u001b[1;32m    596\u001b[0m                                               headers=headers, **params)\n\u001b[1;32m    597\u001b[0m         \u001b[0;32mif\u001b[0m \u001b[0;34m'application/json'\u001b[0m \u001b[0;32min\u001b[0m \u001b[0mheaders\u001b[0m\u001b[0;34m.\u001b[0m\u001b[0mget\u001b[0m\u001b[0;34m(\u001b[0m\u001b[0;34m'content-type'\u001b[0m\u001b[0;34m,\u001b[0m \u001b[0;34m''\u001b[0m\u001b[0;34m)\u001b[0m\u001b[0;34m:\u001b[0m\u001b[0;34m\u001b[0m\u001b[0;34m\u001b[0m\u001b[0m\n",
      "\u001b[0;32m/opt/anaconda3/lib/python3.9/site-packages/couchdb/http.py\u001b[0m in \u001b[0;36m_request\u001b[0;34m(self, method, path, body, headers, **params)\u001b[0m\n\u001b[1;32m    588\u001b[0m         \u001b[0;32melse\u001b[0m\u001b[0;34m:\u001b[0m\u001b[0;34m\u001b[0m\u001b[0;34m\u001b[0m\u001b[0m\n\u001b[1;32m    589\u001b[0m             \u001b[0murl\u001b[0m \u001b[0;34m=\u001b[0m \u001b[0murljoin\u001b[0m\u001b[0;34m(\u001b[0m\u001b[0mself\u001b[0m\u001b[0;34m.\u001b[0m\u001b[0murl\u001b[0m\u001b[0;34m,\u001b[0m \u001b[0;34m**\u001b[0m\u001b[0mparams\u001b[0m\u001b[0;34m)\u001b[0m\u001b[0;34m\u001b[0m\u001b[0;34m\u001b[0m\u001b[0m\n\u001b[0;32m--> 590\u001b[0;31m         return self.session.request(method, url, body=body,\n\u001b[0m\u001b[1;32m    591\u001b[0m                                     \u001b[0mheaders\u001b[0m\u001b[0;34m=\u001b[0m\u001b[0mall_headers\u001b[0m\u001b[0;34m,\u001b[0m\u001b[0;34m\u001b[0m\u001b[0;34m\u001b[0m\u001b[0m\n\u001b[1;32m    592\u001b[0m                                     credentials=self.credentials)\n",
      "\u001b[0;32m/opt/anaconda3/lib/python3.9/site-packages/couchdb/http.py\u001b[0m in \u001b[0;36mrequest\u001b[0;34m(self, method, url, body, headers, credentials, num_redirects)\u001b[0m\n\u001b[1;32m    347\u001b[0m                     \u001b[0;32mraise\u001b[0m\u001b[0;34m\u001b[0m\u001b[0;34m\u001b[0m\u001b[0m\n\u001b[1;32m    348\u001b[0m \u001b[0;34m\u001b[0m\u001b[0m\n\u001b[0;32m--> 349\u001b[0;31m         \u001b[0mresp\u001b[0m \u001b[0;34m=\u001b[0m \u001b[0m_try_request_with_retries\u001b[0m\u001b[0;34m(\u001b[0m\u001b[0miter\u001b[0m\u001b[0;34m(\u001b[0m\u001b[0mself\u001b[0m\u001b[0;34m.\u001b[0m\u001b[0mretry_delays\u001b[0m\u001b[0;34m)\u001b[0m\u001b[0;34m)\u001b[0m\u001b[0;34m\u001b[0m\u001b[0;34m\u001b[0m\u001b[0m\n\u001b[0m\u001b[1;32m    350\u001b[0m         \u001b[0mstatus\u001b[0m \u001b[0;34m=\u001b[0m \u001b[0mresp\u001b[0m\u001b[0;34m.\u001b[0m\u001b[0mstatus\u001b[0m\u001b[0;34m\u001b[0m\u001b[0;34m\u001b[0m\u001b[0m\n\u001b[1;32m    351\u001b[0m \u001b[0;34m\u001b[0m\u001b[0m\n",
      "\u001b[0;32m/opt/anaconda3/lib/python3.9/site-packages/couchdb/http.py\u001b[0m in \u001b[0;36m_try_request_with_retries\u001b[0;34m(retries)\u001b[0m\n\u001b[1;32m    298\u001b[0m             \u001b[0;32mwhile\u001b[0m \u001b[0;32mTrue\u001b[0m\u001b[0;34m:\u001b[0m\u001b[0;34m\u001b[0m\u001b[0;34m\u001b[0m\u001b[0m\n\u001b[1;32m    299\u001b[0m                 \u001b[0;32mtry\u001b[0m\u001b[0;34m:\u001b[0m\u001b[0;34m\u001b[0m\u001b[0;34m\u001b[0m\u001b[0m\n\u001b[0;32m--> 300\u001b[0;31m                     \u001b[0;32mreturn\u001b[0m \u001b[0m_try_request\u001b[0m\u001b[0;34m(\u001b[0m\u001b[0;34m)\u001b[0m\u001b[0;34m\u001b[0m\u001b[0;34m\u001b[0m\u001b[0m\n\u001b[0m\u001b[1;32m    301\u001b[0m                 \u001b[0;32mexcept\u001b[0m \u001b[0msocket\u001b[0m\u001b[0;34m.\u001b[0m\u001b[0merror\u001b[0m \u001b[0;32mas\u001b[0m \u001b[0me\u001b[0m\u001b[0;34m:\u001b[0m\u001b[0;34m\u001b[0m\u001b[0;34m\u001b[0m\u001b[0m\n\u001b[1;32m    302\u001b[0m                     \u001b[0mecode\u001b[0m \u001b[0;34m=\u001b[0m \u001b[0me\u001b[0m\u001b[0;34m.\u001b[0m\u001b[0margs\u001b[0m\u001b[0;34m[\u001b[0m\u001b[0;36m0\u001b[0m\u001b[0;34m]\u001b[0m\u001b[0;34m\u001b[0m\u001b[0;34m\u001b[0m\u001b[0m\n",
      "\u001b[0;32m/opt/anaconda3/lib/python3.9/site-packages/couchdb/http.py\u001b[0m in \u001b[0;36m_try_request\u001b[0;34m()\u001b[0m\n\u001b[1;32m    336\u001b[0m                             \u001b[0mconn\u001b[0m\u001b[0;34m.\u001b[0m\u001b[0msend\u001b[0m\u001b[0;34m(\u001b[0m\u001b[0mstatus\u001b[0m \u001b[0;34m+\u001b[0m \u001b[0mchunk\u001b[0m \u001b[0;34m+\u001b[0m \u001b[0;34mb'\\r\\n'\u001b[0m\u001b[0;34m)\u001b[0m\u001b[0;34m\u001b[0m\u001b[0;34m\u001b[0m\u001b[0m\n\u001b[1;32m    337\u001b[0m                         \u001b[0mconn\u001b[0m\u001b[0;34m.\u001b[0m\u001b[0msend\u001b[0m\u001b[0;34m(\u001b[0m\u001b[0;34mb'0\\r\\n\\r\\n'\u001b[0m\u001b[0;34m)\u001b[0m\u001b[0;34m\u001b[0m\u001b[0;34m\u001b[0m\u001b[0m\n\u001b[0;32m--> 338\u001b[0;31m                 \u001b[0;32mreturn\u001b[0m \u001b[0mconn\u001b[0m\u001b[0;34m.\u001b[0m\u001b[0mgetresponse\u001b[0m\u001b[0;34m(\u001b[0m\u001b[0;34m)\u001b[0m\u001b[0;34m\u001b[0m\u001b[0;34m\u001b[0m\u001b[0m\n\u001b[0m\u001b[1;32m    339\u001b[0m             \u001b[0;32mexcept\u001b[0m \u001b[0mBadStatusLine\u001b[0m \u001b[0;32mas\u001b[0m \u001b[0me\u001b[0m\u001b[0;34m:\u001b[0m\u001b[0;34m\u001b[0m\u001b[0;34m\u001b[0m\u001b[0m\n\u001b[1;32m    340\u001b[0m                 \u001b[0;31m# httplib raises a BadStatusLine when it cannot read the status\u001b[0m\u001b[0;34m\u001b[0m\u001b[0;34m\u001b[0m\u001b[0m\n",
      "\u001b[0;32m/opt/anaconda3/lib/python3.9/http/client.py\u001b[0m in \u001b[0;36mgetresponse\u001b[0;34m(self)\u001b[0m\n\u001b[1;32m   1369\u001b[0m         \u001b[0;32mtry\u001b[0m\u001b[0;34m:\u001b[0m\u001b[0;34m\u001b[0m\u001b[0;34m\u001b[0m\u001b[0m\n\u001b[1;32m   1370\u001b[0m             \u001b[0;32mtry\u001b[0m\u001b[0;34m:\u001b[0m\u001b[0;34m\u001b[0m\u001b[0;34m\u001b[0m\u001b[0m\n\u001b[0;32m-> 1371\u001b[0;31m                 \u001b[0mresponse\u001b[0m\u001b[0;34m.\u001b[0m\u001b[0mbegin\u001b[0m\u001b[0;34m(\u001b[0m\u001b[0;34m)\u001b[0m\u001b[0;34m\u001b[0m\u001b[0;34m\u001b[0m\u001b[0m\n\u001b[0m\u001b[1;32m   1372\u001b[0m             \u001b[0;32mexcept\u001b[0m \u001b[0mConnectionError\u001b[0m\u001b[0;34m:\u001b[0m\u001b[0;34m\u001b[0m\u001b[0;34m\u001b[0m\u001b[0m\n\u001b[1;32m   1373\u001b[0m                 \u001b[0mself\u001b[0m\u001b[0;34m.\u001b[0m\u001b[0mclose\u001b[0m\u001b[0;34m(\u001b[0m\u001b[0;34m)\u001b[0m\u001b[0;34m\u001b[0m\u001b[0;34m\u001b[0m\u001b[0m\n",
      "\u001b[0;32m/opt/anaconda3/lib/python3.9/http/client.py\u001b[0m in \u001b[0;36mbegin\u001b[0;34m(self)\u001b[0m\n\u001b[1;32m    317\u001b[0m         \u001b[0;31m# read until we get a non-100 response\u001b[0m\u001b[0;34m\u001b[0m\u001b[0;34m\u001b[0m\u001b[0m\n\u001b[1;32m    318\u001b[0m         \u001b[0;32mwhile\u001b[0m \u001b[0;32mTrue\u001b[0m\u001b[0;34m:\u001b[0m\u001b[0;34m\u001b[0m\u001b[0;34m\u001b[0m\u001b[0m\n\u001b[0;32m--> 319\u001b[0;31m             \u001b[0mversion\u001b[0m\u001b[0;34m,\u001b[0m \u001b[0mstatus\u001b[0m\u001b[0;34m,\u001b[0m \u001b[0mreason\u001b[0m \u001b[0;34m=\u001b[0m \u001b[0mself\u001b[0m\u001b[0;34m.\u001b[0m\u001b[0m_read_status\u001b[0m\u001b[0;34m(\u001b[0m\u001b[0;34m)\u001b[0m\u001b[0;34m\u001b[0m\u001b[0;34m\u001b[0m\u001b[0m\n\u001b[0m\u001b[1;32m    320\u001b[0m             \u001b[0;32mif\u001b[0m \u001b[0mstatus\u001b[0m \u001b[0;34m!=\u001b[0m \u001b[0mCONTINUE\u001b[0m\u001b[0;34m:\u001b[0m\u001b[0;34m\u001b[0m\u001b[0;34m\u001b[0m\u001b[0m\n\u001b[1;32m    321\u001b[0m                 \u001b[0;32mbreak\u001b[0m\u001b[0;34m\u001b[0m\u001b[0;34m\u001b[0m\u001b[0m\n",
      "\u001b[0;32m/opt/anaconda3/lib/python3.9/http/client.py\u001b[0m in \u001b[0;36m_read_status\u001b[0;34m(self)\u001b[0m\n\u001b[1;32m    278\u001b[0m \u001b[0;34m\u001b[0m\u001b[0m\n\u001b[1;32m    279\u001b[0m     \u001b[0;32mdef\u001b[0m \u001b[0m_read_status\u001b[0m\u001b[0;34m(\u001b[0m\u001b[0mself\u001b[0m\u001b[0;34m)\u001b[0m\u001b[0;34m:\u001b[0m\u001b[0;34m\u001b[0m\u001b[0;34m\u001b[0m\u001b[0m\n\u001b[0;32m--> 280\u001b[0;31m         \u001b[0mline\u001b[0m \u001b[0;34m=\u001b[0m \u001b[0mstr\u001b[0m\u001b[0;34m(\u001b[0m\u001b[0mself\u001b[0m\u001b[0;34m.\u001b[0m\u001b[0mfp\u001b[0m\u001b[0;34m.\u001b[0m\u001b[0mreadline\u001b[0m\u001b[0;34m(\u001b[0m\u001b[0m_MAXLINE\u001b[0m \u001b[0;34m+\u001b[0m \u001b[0;36m1\u001b[0m\u001b[0;34m)\u001b[0m\u001b[0;34m,\u001b[0m \u001b[0;34m\"iso-8859-1\"\u001b[0m\u001b[0;34m)\u001b[0m\u001b[0;34m\u001b[0m\u001b[0;34m\u001b[0m\u001b[0m\n\u001b[0m\u001b[1;32m    281\u001b[0m         \u001b[0;32mif\u001b[0m \u001b[0mlen\u001b[0m\u001b[0;34m(\u001b[0m\u001b[0mline\u001b[0m\u001b[0;34m)\u001b[0m \u001b[0;34m>\u001b[0m \u001b[0m_MAXLINE\u001b[0m\u001b[0;34m:\u001b[0m\u001b[0;34m\u001b[0m\u001b[0;34m\u001b[0m\u001b[0m\n\u001b[1;32m    282\u001b[0m             \u001b[0;32mraise\u001b[0m \u001b[0mLineTooLong\u001b[0m\u001b[0;34m(\u001b[0m\u001b[0;34m\"status line\"\u001b[0m\u001b[0;34m)\u001b[0m\u001b[0;34m\u001b[0m\u001b[0;34m\u001b[0m\u001b[0m\n",
      "\u001b[0;32m/opt/anaconda3/lib/python3.9/socket.py\u001b[0m in \u001b[0;36mreadinto\u001b[0;34m(self, b)\u001b[0m\n\u001b[1;32m    702\u001b[0m         \u001b[0;32mwhile\u001b[0m \u001b[0;32mTrue\u001b[0m\u001b[0;34m:\u001b[0m\u001b[0;34m\u001b[0m\u001b[0;34m\u001b[0m\u001b[0m\n\u001b[1;32m    703\u001b[0m             \u001b[0;32mtry\u001b[0m\u001b[0;34m:\u001b[0m\u001b[0;34m\u001b[0m\u001b[0;34m\u001b[0m\u001b[0m\n\u001b[0;32m--> 704\u001b[0;31m                 \u001b[0;32mreturn\u001b[0m \u001b[0mself\u001b[0m\u001b[0;34m.\u001b[0m\u001b[0m_sock\u001b[0m\u001b[0;34m.\u001b[0m\u001b[0mrecv_into\u001b[0m\u001b[0;34m(\u001b[0m\u001b[0mb\u001b[0m\u001b[0;34m)\u001b[0m\u001b[0;34m\u001b[0m\u001b[0;34m\u001b[0m\u001b[0m\n\u001b[0m\u001b[1;32m    705\u001b[0m             \u001b[0;32mexcept\u001b[0m \u001b[0mtimeout\u001b[0m\u001b[0;34m:\u001b[0m\u001b[0;34m\u001b[0m\u001b[0;34m\u001b[0m\u001b[0m\n\u001b[1;32m    706\u001b[0m                 \u001b[0mself\u001b[0m\u001b[0;34m.\u001b[0m\u001b[0m_timeout_occurred\u001b[0m \u001b[0;34m=\u001b[0m \u001b[0;32mTrue\u001b[0m\u001b[0;34m\u001b[0m\u001b[0;34m\u001b[0m\u001b[0m\n",
      "\u001b[0;31mKeyboardInterrupt\u001b[0m: "
     ]
    }
   ],
   "source": [
    "# get twitter key\n",
    "api, position = select_a_valid_twitter_key(twitter_keys)\n",
    "api2, position2 = select_a_valid_twitter_key(twitter_keys)\n",
    "\n",
    "# get query words\n",
    "query = random20_keywords(keywords)\n",
    "\n",
    "# get tweets\n",
    "mel_tweets = tweepy.Cursor(api.search_tweets, q=query, geocode=mel_geo).items()\n",
    "syd_tweets = tweepy.Cursor(api2.search_tweets, q=query, geocode=syd_geo).items()\n",
    "while True:\n",
    "    try:\n",
    "        harvest_tweets(mel_tweets, \"twitter_sentiment\", position)\n",
    "        harvest_tweets(syd_tweets, \"twitter_sentiment_syd\", position2)\n",
    "        \n",
    "    except tweepy.errors.TweepyException as e:\n",
    "        print(\"Error: \", e)\n",
    "        \n",
    "        # update current twitter key's state and last used time\n",
    "        with open('twitter_keys.json', 'r') as f:\n",
    "            update_key_state = json.load(f)\n",
    "            keys = update_key_state['keys']\n",
    "            keys[position]['flag'] = 'False'\n",
    "            keys[position2]['flag'] = 'False'\n",
    "            keys[position]['last_used'] = datetime.datetime.now().strftime(FMT)\n",
    "            keys[position2]['last_used'] = datetime.datetime.now().strftime(FMT)\n",
    "\n",
    "        with open('twitter_keys.json', 'w') as f:\n",
    "            json.dump(update_key_state, f, indent=2)\n",
    "        \n",
    "        # begin a new twitter API\n",
    "        query = random20_keywords(keywords)\n",
    "        api, position = select_a_valid_twitter_key(twitter_keys)\n",
    "        api2, position2 = select_a_valid_twitter_key(twitter_keys)\n",
    "        mel_tweets = tweepy.Cursor(api.search_tweets, q=query, geocode=mel_geo).items()\n",
    "        syd_tweets = tweepy.Cursor(api2.search_tweets, q=query, geocode=syd_geo).items()      \n",
    "        \n",
    "    except StopIteration:\n",
    "        continue\n",
    "    "
   ]
  },
  {
   "cell_type": "code",
   "execution_count": null,
   "id": "83b5bee2",
   "metadata": {},
   "outputs": [],
   "source": []
  }
 ],
 "metadata": {
  "kernelspec": {
   "display_name": "Python 3 (ipykernel)",
   "language": "python",
   "name": "python3"
  },
  "language_info": {
   "codemirror_mode": {
    "name": "ipython",
    "version": 3
   },
   "file_extension": ".py",
   "mimetype": "text/x-python",
   "name": "python",
   "nbconvert_exporter": "python",
   "pygments_lexer": "ipython3",
   "version": "3.9.7"
  }
 },
 "nbformat": 4,
 "nbformat_minor": 5
}
