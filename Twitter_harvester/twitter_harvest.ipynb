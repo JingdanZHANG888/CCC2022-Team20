{
 "cells": [
  {
   "cell_type": "markdown",
   "id": "d60f6c79",
   "metadata": {},
   "source": [
    "## Twitter Harvest"
   ]
  },
  {
   "cell_type": "markdown",
   "id": "05c830f9",
   "metadata": {},
   "source": [
    "Reference: \\\n",
    "housing key words: https://www.wordstream.com/popular-keywords/real-estate-keywords?aliId=eyJpIjoiZXQwMHhlbHc5WTBEdksxSSIsInQiOiJiT01uUkVrY0M4eTFRSDh0ZWc2bG13PT0ifQ%253D%253D \\\n",
    "income key words: https://www.thesaurus.com/browse/income"
   ]
  },
  {
   "cell_type": "code",
   "execution_count": 3,
   "id": "cfc557c6",
   "metadata": {},
   "outputs": [
    {
     "name": "stderr",
     "output_type": "stream",
     "text": [
      "[nltk_data] Downloading package vader_lexicon to\n",
      "[nltk_data]     /Users/sicenxi/nltk_data...\n",
      "[nltk_data]   Package vader_lexicon is already up-to-date!\n"
     ]
    },
    {
     "data": {
      "text/plain": [
       "True"
      ]
     },
     "execution_count": 3,
     "metadata": {},
     "output_type": "execute_result"
    }
   ],
   "source": [
    "import datetime\n",
    "import time\n",
    "import json\n",
    "import random\n",
    "import couchdb\n",
    "import tweepy\n",
    "import sys\n",
    "import nltk\n",
    "from nltk.sentiment.vader import SentimentIntensityAnalyzer\n",
    "from operator import itemgetter\n",
    "\n",
    "nltk.download('vader_lexicon')"
   ]
  },
  {
   "cell_type": "code",
   "execution_count": 17,
   "id": "89c59892",
   "metadata": {},
   "outputs": [],
   "source": [
    "FMT = '%Y-%m-%d %H:%M:%S'\n",
    "LIMIT_IN_SEC = 900\n",
    "WAIT = 60\n",
    "NOW = datetime.datetime.now().strftime(FMT)\n",
    "\n",
    "url = \"http://172.26.131.170:5984\"\n",
    "user = \"admin\"\n",
    "password = '170645'\n",
    "\n",
    "# Latitude and longitude coordinates\n",
    "mel_geo = '-37.840935,144.946457,200km'\n",
    "syd_geo = '-33.867487,151.206990,200km'"
   ]
  },
  {
   "cell_type": "code",
   "execution_count": 19,
   "id": "53d5f972",
   "metadata": {},
   "outputs": [],
   "source": [
    "# initialize twitter keys state\n",
    "f1 = open('twitter_keys.json')\n",
    "twitter_keys = json.load(f1)\n",
    "current_datetime = datetime.datetime.now().strftime('%Y-%m-%d %H:%M:%S')\n",
    "for i in range(4):\n",
    "    twitter_keys[\"keys\"][i][\"last_used\"] = '2022-04-10 00:00:00'\n",
    "    twitter_keys[\"keys\"][i][\"flag\"] = 'False'\n",
    "a_file = open('twitter_keys.json', \"w\")\n",
    "json.dump(twitter_keys, a_file)\n",
    "a_file.close()\n",
    "\n",
    "# read files\n",
    "f2 = open('keywords.json')\n",
    "keywords = json.load(f2)"
   ]
  },
  {
   "cell_type": "code",
   "execution_count": 5,
   "id": "382a6b89",
   "metadata": {},
   "outputs": [],
   "source": [
    "def random20_keywords(key_word_file):\n",
    "    # random get 20 current key words for searching\n",
    "    housing_words = random.choices(key_word_file['housing'], k=10)\n",
    "    income_words = random.choices(key_word_file['income'], k=10)\n",
    "    mel_words = random.choices(key_word_file['Melbourne'], k=10)\n",
    "    # convert these keywords into a string\n",
    "    only_housing = '\" OR \"'.join(housing_words)\n",
    "    only_housing = '\"' + only_housing + '\"'\n",
    "    only_income = '\" OR \"'.join(income_words)\n",
    "    only_income = '\"' + only_income + '\"'\n",
    "    income_housing = only_housing + ' OR ' + only_income\n",
    "    mel_housing = '\" OR \"'.join(mel_words)\n",
    "    mel_housing = only_housing + ' OR \"' + mel_housing + '\"'\n",
    "    return income_housing"
   ]
  },
  {
   "cell_type": "code",
   "execution_count": 12,
   "id": "55e665e1",
   "metadata": {},
   "outputs": [],
   "source": [
    "def select_a_valid_twitter_key(twitter_keys_file, remove_key):\n",
    "    f1 = open('twitter_keys.json')\n",
    "    twitter_keys = json.load(f1)\n",
    "    # get all valid twitter keys\n",
    "    get_key = []\n",
    "    duration_list = []\n",
    "    rest_time = []\n",
    "    # remove melbourne used key\n",
    "    if remove_key != None:\n",
    "        del twitter_keys[\"keys\"][remove_key]\n",
    "    while True:\n",
    "        for valid_key in twitter_keys[\"keys\"]:\n",
    "            duration = datetime.datetime.now() - datetime.datetime.strptime(valid_key[\"last_used\"], FMT)\n",
    "            duration_in_s = duration.total_seconds()\n",
    "            position = valid_key[\"id\"] - 1\n",
    "            rest_time.append(duration_in_s)\n",
    "      \n",
    "            if duration_in_s >= 900:\n",
    "                get_key.append(valid_key)\n",
    "                add_info = [duration_in_s, position]\n",
    "                duration_list.append(add_info)\n",
    "                \n",
    "        # if there is no valid key to select, the system needs to wait\n",
    "        if len(get_key) == 0:\n",
    "            wait_time_in_s = LIMIT_IN_SEC - max(rest_time)\n",
    "            print(\"Wait \" + str(wait_time_in_s) + \" seconds for Available Twitter key\")\n",
    "            time.sleep(wait_time_in_s)\n",
    "            \n",
    "        # if there is a valid key existing, we use the key which rests longest.\n",
    "        else:\n",
    "            duration_list.sort(key = itemgetter(0))\n",
    "            index = duration_list[-1][1]\n",
    "            print(\"Find a valid twitter key: \", index+1)\n",
    "            # get twitter API\n",
    "            consumer_key = get_key[index][\"detail\"][\"TWITTER_API_KEY\"]\n",
    "            consumer_secret = get_key[index][\"detail\"][\"TWITTER_API_KEY_SECRET\"]\n",
    "            bearer_token = get_key[index][\"detail\"][\"TWITTER_BEARER_TOKEN\"]\n",
    "            access_token = get_key[index][\"detail\"][\"TWITTER_ACCESS_TOKEN\"]\n",
    "            access_token_secret = get_key[index][\"detail\"][\"TWITTER_ACCESS_SECRET\"]\n",
    "            auth = tweepy.OAuthHandler(consumer_key, consumer_secret)\n",
    "            auth.set_access_token(access_token, access_token_secret)\n",
    "            api = tweepy.API(auth)\n",
    "                \n",
    "            return api, index"
   ]
  },
  {
   "cell_type": "code",
   "execution_count": 7,
   "id": "91efeaba",
   "metadata": {},
   "outputs": [],
   "source": [
    "def analysis_Twitter_Sentiment(text):\n",
    "    sentiment = 0\n",
    "    score = SentimentIntensityAnalyzer().polarity_scores(text)\n",
    "    neg = score['neg']\n",
    "    neu = score['neu']\n",
    "    pos = score['pos']\n",
    "    if neg > pos:\n",
    "        sentiment = 'negative'\n",
    "    elif pos > neg:\n",
    "        sentiment = 'positive'\n",
    "    elif pos == neg:\n",
    "        sentiment = 'neutral'\n",
    "    return sentiment"
   ]
  },
  {
   "cell_type": "code",
   "execution_count": 23,
   "id": "473a5998",
   "metadata": {},
   "outputs": [],
   "source": [
    "def harvest_tweets(tweets, dbname, key_position):\n",
    "    for tweet in tweets:\n",
    "            tweet_id = tweet.id\n",
    "            tweet_text = tweet.text\n",
    "            tweet_coord = tweet.coordinates\n",
    "            tweet_place = tweet.place\n",
    "            tweet_user_location = tweet.user.location\n",
    "            tweet_Date = tweet.created_at.date()\n",
    "            tweet_sentiment = analysis_Twitter_Sentiment(tweet_text)\n",
    "            tweet_info = {'id': str(tweet_id), \n",
    "                          'content': tweet_text, \n",
    "                          'coordinates': tweet_coord, \n",
    "                          'place': str(tweet_place),\n",
    "                          'user_location': tweet_user_location,\n",
    "                          'created_date': str(tweet_Date),\n",
    "                          'sentiment': tweet_sentiment\n",
    "                         } \n",
    "    \n",
    "            # add to Couchdb\n",
    "            server = couchdb.Server(url)\n",
    "            # Set credentials if necessary\n",
    "            server.resource.credentials = (user, password)\n",
    "            if dbname not in server:\n",
    "                server.create(dbname)\n",
    "            db = server[dbname]\n",
    "            if str(tweet_info[\"id\"]) not in db:\n",
    "                tweet_info[\"_id\"] = str(tweet_info[\"id\"])\n",
    "                db.save(tweet_info)\n",
    "                print(tweet_info)\n",
    "                print(\"Sucessfully saved to Couchdb:\", dbname)\n",
    "            \n",
    "            # update last used time of current twitter key\n",
    "            with open('twitter_keys.json', 'r') as f:\n",
    "                update_key_state = json.load(f)\n",
    "                keys = update_key_state['keys']\n",
    "                keys[key_position]['last_used'] = datetime.datetime.now().strftime(FMT)\n",
    "\n",
    "            with open('twitter_keys.json', 'w') as f:\n",
    "                json.dump(update_key_state, f, indent=2)"
   ]
  },
  {
   "cell_type": "code",
   "execution_count": null,
   "id": "44aea6b6",
   "metadata": {},
   "outputs": [
    {
     "name": "stdout",
     "output_type": "stream",
     "text": [
      "Find a valid twitter key:  2\n",
      "Find a valid twitter key:  1\n",
      "Error:  429 Too Many Requests\n",
      "88 - Rate limit exceeded\n",
      "Wait 870.899497 seconds for Available Twitter key\n"
     ]
    }
   ],
   "source": [
    "# get twitter key\n",
    "api, position = select_a_valid_twitter_key(twitter_keys, None)\n",
    "api2, position2 = select_a_valid_twitter_key(twitter_keys, position)\n",
    "\n",
    "# get query words\n",
    "query = random20_keywords(keywords)\n",
    "\n",
    "# get tweets\n",
    "mel_tweets = tweepy.Cursor(api.search_tweets, q=query, geocode=mel_geo).items()\n",
    "syd_tweets = tweepy.Cursor(api2.search_tweets, q=query, geocode=syd_geo).items()\n",
    "while True:\n",
    "    try:\n",
    "        harvest_tweets(mel_tweets, \"twitter_sentiment\", position)\n",
    "        harvest_tweets(syd_tweets, \"twitter_sentiment_syd\", position2)\n",
    "        \n",
    "    except tweepy.errors.TweepyException as e:\n",
    "        print(\"Error: \", e)\n",
    "        \n",
    "        # update current twitter key's state and last used time\n",
    "        with open('twitter_keys.json', 'r') as f:\n",
    "            update_key_state = json.load(f)\n",
    "            keys = update_key_state['keys']\n",
    "            keys[position]['last_used'] = datetime.datetime.now().strftime(FMT)\n",
    "            keys[position2]['last_used'] = datetime.datetime.now().strftime(FMT)\n",
    "\n",
    "        with open('twitter_keys.json', 'w') as f:\n",
    "            json.dump(update_key_state, f, indent=2)\n",
    "        \n",
    "        # begin a new twitter API\n",
    "        query = random20_keywords(keywords)\n",
    "        api, position = select_a_valid_twitter_key(twitter_keys, None)\n",
    "        api2, position2 = select_a_valid_twitter_key(twitter_keys, position)\n",
    "        mel_tweets = tweepy.Cursor(api.search_tweets, q=query, geocode=mel_geo).items()\n",
    "        syd_tweets = tweepy.Cursor(api2.search_tweets, q=query, geocode=syd_geo).items()      \n",
    "        \n",
    "    except StopIteration:\n",
    "        continue\n",
    "    "
   ]
  },
  {
   "cell_type": "code",
   "execution_count": null,
   "id": "83b5bee2",
   "metadata": {},
   "outputs": [],
   "source": []
  }
 ],
 "metadata": {
  "kernelspec": {
   "display_name": "Python 3 (ipykernel)",
   "language": "python",
   "name": "python3"
  },
  "language_info": {
   "codemirror_mode": {
    "name": "ipython",
    "version": 3
   },
   "file_extension": ".py",
   "mimetype": "text/x-python",
   "name": "python",
   "nbconvert_exporter": "python",
   "pygments_lexer": "ipython3",
   "version": "3.9.7"
  }
 },
 "nbformat": 4,
 "nbformat_minor": 5
}
