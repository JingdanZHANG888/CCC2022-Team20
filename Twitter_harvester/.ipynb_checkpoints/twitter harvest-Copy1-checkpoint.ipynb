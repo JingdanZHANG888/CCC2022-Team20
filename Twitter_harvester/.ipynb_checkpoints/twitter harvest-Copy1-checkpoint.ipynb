{
 "cells": [
  {
   "cell_type": "markdown",
   "id": "d60f6c79",
   "metadata": {},
   "source": [
    "## Twitter Harvest"
   ]
  },
  {
   "cell_type": "markdown",
   "id": "05c830f9",
   "metadata": {},
   "source": [
    "Reference: \\\n",
    "housing key words: https://www.wordstream.com/popular-keywords/real-estate-keywords?aliId=eyJpIjoiZXQwMHhlbHc5WTBEdksxSSIsInQiOiJiT01uUkVrY0M4eTFRSDh0ZWc2bG13PT0ifQ%253D%253D \\\n",
    "income key words: https://www.thesaurus.com/browse/income"
   ]
  },
  {
   "cell_type": "code",
   "execution_count": 357,
   "id": "cfc557c6",
   "metadata": {},
   "outputs": [],
   "source": [
    "import datetime\n",
    "import time\n",
    "import json\n",
    "import random\n",
    "import couchdb\n",
    "import tweepy"
   ]
  },
  {
   "cell_type": "code",
   "execution_count": 338,
   "id": "89c59892",
   "metadata": {},
   "outputs": [],
   "source": [
    "FMT = '%Y-%m-%d %H:%M:%S'\n",
    "LIMIT_IN_SEC = 900\n",
    "WAIT = 300\n",
    "NOW = datetime.datetime.now().strftime(FMT)\n",
    "\n",
    "url = \"http://172.26.132.116:5984\"\n",
    "user = \"admin\"\n",
    "password = '170645'\n",
    "\n",
    "# Latitude and longitude coordinates\n",
    "mel_corr = [-37.840935, 144.946457]\n",
    "# bounding box of Melbourne from AURIN SA2_2016\n",
    "mel_bounding_box = [144.9514,-37.8231,144.9749,-37.8059]\n",
    "mel_geo = '-37.840935,144.946457,200km'"
   ]
  },
  {
   "cell_type": "code",
   "execution_count": 250,
   "id": "53d5f972",
   "metadata": {},
   "outputs": [],
   "source": [
    "# read files\n",
    "f1 = open('twitter_keys.json')\n",
    "f2 = open('keywords.json')\n",
    "twitter_keys = json.load(f1)\n",
    "keywords = json.load(f2)"
   ]
  },
  {
   "cell_type": "code",
   "execution_count": 264,
   "id": "726084f4",
   "metadata": {},
   "outputs": [
    {
     "data": {
      "text/plain": [
       "'\"foreclosed homes for sale\" OR \"for sale\" OR \"real estate for sale\" OR \"real estate websites\" OR \"luxury homes\" OR \"real estate listings\" OR \"mls\" OR \"sellhome\" OR \"realtor\" OR \"homes for sale near me\" OR \"net\" OR \"earnings\" OR \"revenue\" OR \"gross\" OR \"proceeds\" OR \"livelihood\" OR \"compensation\" OR \"payoff\" OR \"salary\" OR \"royalty\"'"
      ]
     },
     "execution_count": 264,
     "metadata": {},
     "output_type": "execute_result"
    }
   ],
   "source": [
    "# random get 20 current key words for searching\n",
    "housing_words = random.choices(keywords['housing'], k=10)\n",
    "income_words = random.choices(keywords['income'], k=10)\n",
    "mel_words = random.choices(keywords['Melbourne'], k=10)\n",
    "# convert these keywords into a string\n",
    "only_housing = '\" OR \"'.join(housing_words)\n",
    "only_housing = '\"' + only_housing + '\"'\n",
    "only_income = '\" OR \"'.join(income_words)\n",
    "only_income = '\"' + only_income + '\"'\n",
    "income_housing = only_housing + ' OR ' + only_income\n",
    "mel_housing = '\" OR \"'.join(mel_words)\n",
    "mel_housing = only_housing + ' OR \"' + mel_housing + '\"'"
   ]
  },
  {
   "cell_type": "code",
   "execution_count": 367,
   "id": "44aea6b6",
   "metadata": {},
   "outputs": [
    {
     "name": "stdout",
     "output_type": "stream",
     "text": [
      "Find a valid twitter key: [{'id': 1, 'detail': {'TWITTER_API_KEY': 'gQp6A7lytAW7CsHHBIxLB6Tbx', 'TWITTER_API_KEY_SECRET': 'hBpuAuqBNNSz2DpWPVDaPligMADwjUy1LA4Ch5PBLDCIXHehSM', 'TWITTER_BEARER_TOKEN': 'AAAAAAAAAAAAAAAAAAAAAC1abQEAAAAAN7xHNesk4whruKTtFtIIYtFBGpo%3DD9Z9hjkoINuHhbZX5kU8xFDWGuO1faLqvaS4X7WLeKg8xQmFbr', 'TWITTER_ACCESS_TOKEN': '1513102101270138882-WSAzorjHznAWFcJRe337y2fsf4gfrk', 'TWITTER_ACCESS_SECRET': 'X5N9l62THB94WazVLOwLp2i2Q9e2C8nXJpPv56nzL11li'}, 'flag': 'False', 'last_used': '2022-04-25 13:13:59'}]\n",
      "Get a Valid twitter key and Updated its state\n",
      "{'id': '1518786054652055553', 'content': 'Lunch waffle! \\n#waffle95 3/5\\n\\n🟩🟩🟩🟩🟩\\n🟩⭐🟩⬜🟩\\n🟩🟩⭐🟩🟩\\n🟩⬜🟩⭐🟩\\n🟩🟩🟩🟩🟩\\n\\n🔥 streak: 6\\nhttps://t.co/v7NyEK56KV', 'coordinates': None, 'place': 'None', 'user_location': 'Melbourne, Australia', 'created_date': '2022-04-26'}\n",
      "Sucessfully saved to Couchdb\n"
     ]
    }
   ],
   "source": [
    "# get all valid twitter keys\n",
    "current_valid_keys = []\n",
    "least_wait_in_s = 0\n",
    "get_key = []\n",
    "for key in twitter_keys[\"keys\"]:\n",
    "    if key[\"flag\"] == \"False\":\n",
    "        current_valid_keys.append(key)\n",
    "if len(current_valid_keys) == 0:\n",
    "    print(\"Wait {WAIT} seconds for Available Twitter Key\")\n",
    "    time.sleep(WAIT)\n",
    "else:\n",
    "    for valid_key in current_valid_keys:\n",
    "        duration = datetime.datetime.now() - datetime.datetime.strptime(valid_key[\"last_used\"], FMT)\n",
    "        duration_in_s = duration.total_seconds()\n",
    "        if duration_in_s >= LIMIT_IN_SEC:\n",
    "            get_key.append(valid_key)\n",
    "            print(\"Find a valid twitter key:\", get_key[0][\"id\"])\n",
    "            break\n",
    "        else:\n",
    "            least_wait_in_s = max(least_wait_in_s, duration_in_s)\n",
    "    if get_key == 0:\n",
    "        wait_time_in_s = LIMIT_IN_SEC - least_wait_in_s\n",
    "        print(\"Wait {Wait_time_in_s} seconds for Available Twitter key\")\n",
    "        time.sleep(wait_time_in_s)\n",
    "    else:\n",
    "        # update the selected twitter key's state\n",
    "        position = get_key[0][\"id\"] - 1\n",
    "        print(\"Get a Valid twitter key and Updated its state\")\n",
    "        with open('twitter_keys.json', 'r') as f:\n",
    "            update_key_state = json.load(f)\n",
    "            keys = update_key_state['keys']\n",
    "            keys[position]['flag'] = 'True'\n",
    "\n",
    "        with open('twitter_keys.json', 'w') as f:\n",
    "            json.dump(update_key_state, f, indent=2)\n",
    "\n",
    "# get twitter API\n",
    "consumer_key = get_key[0][\"detail\"][\"TWITTER_API_KEY\"]\n",
    "consumer_secret = get_key[0][\"detail\"][\"TWITTER_API_KEY_SECRET\"]\n",
    "bearer_token = get_key[0][\"detail\"][\"TWITTER_BEARER_TOKEN\"]\n",
    "access_token = get_key[0][\"detail\"][\"TWITTER_ACCESS_TOKEN\"]\n",
    "access_token_secret = get_key[0][\"detail\"][\"TWITTER_ACCESS_SECRET\"]\n",
    "auth = tweepy.OAuthHandler(consumer_key, consumer_secret)\n",
    "auth.set_access_token(access_token, access_token_secret)\n",
    "api = tweepy.API(auth)\n",
    "\n",
    "# get tweets\n",
    "tweets = tweepy.Cursor(api.search_tweets, q=income_housing, geocode=mel_geo).items(1) # test to set items(1)\n",
    "while True:\n",
    "    try:\n",
    "        for tweet in tweets:\n",
    "            tweet_id = tweet.id\n",
    "            tweet_text = tweet.text\n",
    "            tweet_coord = tweet.coordinates\n",
    "            tweet_place = tweet.place\n",
    "            tweet_user_location = tweet.user.location\n",
    "            tweet_Date = tweet.created_at.date()\n",
    "            tweet_info = {'id': str(tweet_id), \n",
    "                          'content': tweet_text, \n",
    "                          'coordinates': tweet_coord, \n",
    "                          'place': str(tweet_place),\n",
    "                          'user_location': tweet_user_location,\n",
    "                          'created_date': str(tweet_Date)\n",
    "                         } \n",
    "            print(tweet_info)\n",
    "    \n",
    "            # add to Couchdb\n",
    "            server = couchdb.Server(url)\n",
    "            # Set credentials if necessary\n",
    "            server.resource.credentials = (user, password)\n",
    "            if \"twitter\" not in server:\n",
    "                server.create(\"twitter\")\n",
    "            db = server[\"twitter\"]\n",
    "            if str(tweet_info[\"id\"]) not in db:\n",
    "                tweet_info[\"_id\"] = str(tweet_info[\"id\"])\n",
    "                db.save(tweet_info)\n",
    "                #print(tweet_info)\n",
    "            print(\"Sucessfully saved to Couchdb\")\n",
    "            \n",
    "            # update last used time of current twitter key\n",
    "            with open('twitter_keys.json', 'r') as f:\n",
    "                update_key_state = json.load(f)\n",
    "                keys = update_key_state['keys']\n",
    "                keys[position]['last_used'] = datetime.datetime.now().strftime('%Y-%m-%d %H:%M:%S')\n",
    "\n",
    "            with open('twitter_keys.json', 'w') as f:\n",
    "                json.dump(update_key_state, f, indent=2)\n",
    "        break\n",
    "        \n",
    "    except tweepy.errors.TweepyException as e:\n",
    "        print(\"Error:\", e)\n",
    "        # update current twitter key's state\n",
    "        with open('twitter_keys.json', 'r') as f:\n",
    "            update_key_state = json.load(f)\n",
    "            keys = update_key_state['keys']\n",
    "            keys[position]['flag'] = 'False'\n",
    "\n",
    "        with open('twitter_keys.json', 'w') as f:\n",
    "            json.dump(update_key_state, f, indent=2)\n",
    "        \n",
    "        time.sleep(LIMIT_IN_SEC)\n",
    "        continue\n",
    "    except StopIteration:\n",
    "        break\n",
    "    "
   ]
  },
  {
   "cell_type": "code",
   "execution_count": 365,
   "id": "34f49915",
   "metadata": {},
   "outputs": [
    {
     "data": {
      "text/plain": [
       "{'id': 1518785425363521536,\n",
       " 'content': 'Another term of LNP political gangsters will allow predatory criminals &amp; vandals to rape our Common Wealth. Much of… https://t.co/AgOFQnCQ24',\n",
       " 'coordinates': None,\n",
       " 'place': 'None',\n",
       " 'user_location': 'Melbourne, Australia',\n",
       " 'created_date': '2022-04-26',\n",
       " '_id': '1518785425363521536',\n",
       " '_rev': '1-411603e71b1dffee4be8dfedb452403d'}"
      ]
     },
     "execution_count": 365,
     "metadata": {},
     "output_type": "execute_result"
    }
   ],
   "source": [
    "tweet_info"
   ]
  },
  {
   "cell_type": "code",
   "execution_count": 366,
   "id": "61b41259",
   "metadata": {},
   "outputs": [
    {
     "data": {
      "text/plain": [
       "True"
      ]
     },
     "execution_count": 366,
     "metadata": {},
     "output_type": "execute_result"
    }
   ],
   "source": [
    "'1518785425363521536' in db"
   ]
  },
  {
   "cell_type": "code",
   "execution_count": 370,
   "id": "62d1a19b",
   "metadata": {},
   "outputs": [],
   "source": [
    "from tweepy import errors"
   ]
  },
  {
   "cell_type": "code",
   "execution_count": null,
   "id": "61d688c6",
   "metadata": {},
   "outputs": [],
   "source": []
  }
 ],
 "metadata": {
  "kernelspec": {
   "display_name": "Python 3 (ipykernel)",
   "language": "python",
   "name": "python3"
  },
  "language_info": {
   "codemirror_mode": {
    "name": "ipython",
    "version": 3
   },
   "file_extension": ".py",
   "mimetype": "text/x-python",
   "name": "python",
   "nbconvert_exporter": "python",
   "pygments_lexer": "ipython3",
   "version": "3.9.7"
  }
 },
 "nbformat": 4,
 "nbformat_minor": 5
}
