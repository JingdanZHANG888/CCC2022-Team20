{
 "cells": [
  {
   "cell_type": "code",
   "execution_count": 1,
   "id": "b5cfe0c1",
   "metadata": {},
   "outputs": [],
   "source": [
    "import datetime\n",
    "import time\n",
    "import json"
   ]
  },
  {
   "cell_type": "code",
   "execution_count": 5,
   "id": "e261e477",
   "metadata": {},
   "outputs": [],
   "source": [
    "f1 = open('twitter_keys.json')\n",
    "twitter_keys = json.load(f1)\n",
    "current_datetime = datetime.datetime.now().strftime('%Y-%m-%d %H:%M:%S')\n",
    "for i in range(3):\n",
    "    twitter_keys[\"keys\"][i][\"last_used\"] = current_datetime\n",
    "    twitter_keys[\"keys\"][i][\"flag\"] = 'False'\n",
    "a_file = open('twitter_keys.json', \"w\")\n",
    "json.dump(twitter_keys, a_file)\n",
    "a_file.close()"
   ]
  },
  {
   "cell_type": "code",
   "execution_count": null,
   "id": "68ec95af",
   "metadata": {},
   "outputs": [],
   "source": []
  }
 ],
 "metadata": {
  "kernelspec": {
   "display_name": "Python 3 (ipykernel)",
   "language": "python",
   "name": "python3"
  },
  "language_info": {
   "codemirror_mode": {
    "name": "ipython",
    "version": 3
   },
   "file_extension": ".py",
   "mimetype": "text/x-python",
   "name": "python",
   "nbconvert_exporter": "python",
   "pygments_lexer": "ipython3",
   "version": "3.9.7"
  }
 },
 "nbformat": 4,
 "nbformat_minor": 5
}
