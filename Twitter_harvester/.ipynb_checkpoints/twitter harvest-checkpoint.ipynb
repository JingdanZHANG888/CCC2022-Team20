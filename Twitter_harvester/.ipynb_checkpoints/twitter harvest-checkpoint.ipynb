{
 "cells": [
  {
   "cell_type": "markdown",
   "id": "d60f6c79",
   "metadata": {},
   "source": [
    "## Twitter Harvest"
   ]
  },
  {
   "cell_type": "markdown",
   "id": "05c830f9",
   "metadata": {},
   "source": [
    "Reference: \\\n",
    "housing key words: https://www.wordstream.com/popular-keywords/real-estate-keywords?aliId=eyJpIjoiZXQwMHhlbHc5WTBEdksxSSIsInQiOiJiT01uUkVrY0M4eTFRSDh0ZWc2bG13PT0ifQ%253D%253D \\\n",
    "income key words: https://www.thesaurus.com/browse/income"
   ]
  },
  {
   "cell_type": "code",
   "execution_count": 1,
   "id": "cfc557c6",
   "metadata": {},
   "outputs": [],
   "source": [
    "import datetime\n",
    "import time\n",
    "import json\n",
    "import random\n",
    "import couchdb\n",
    "import tweepy"
   ]
  },
  {
   "cell_type": "code",
   "execution_count": 2,
   "id": "89c59892",
   "metadata": {},
   "outputs": [],
   "source": [
    "FMT = '%Y-%m-%d %H:%M:%S'\n",
    "LIMIT_IN_SEC = 900\n",
    "WAIT = 300\n",
    "NOW = datetime.datetime.now().strftime(FMT)\n",
    "\n",
    "url = \"http://172.26.132.116:5984\"\n",
    "user = \"admin\"\n",
    "password = '170645'\n",
    "\n",
    "# Latitude and longitude coordinates\n",
    "mel_corr = [-37.840935, 144.946457]\n",
    "# bounding box of Melbourne from AURIN SA2_2016\n",
    "mel_bounding_box = [144.9514,-37.8231,144.9749,-37.8059]\n",
    "mel_geo = '-37.840935,144.946457,200km'"
   ]
  },
  {
   "cell_type": "code",
   "execution_count": 3,
   "id": "53d5f972",
   "metadata": {},
   "outputs": [],
   "source": [
    "# read files\n",
    "f1 = open('twitter_keys.json')\n",
    "f2 = open('keywords.json')\n",
    "twitter_keys = json.load(f1)\n",
    "keywords = json.load(f2)"
   ]
  },
  {
   "cell_type": "code",
   "execution_count": 4,
   "id": "382a6b89",
   "metadata": {},
   "outputs": [],
   "source": [
    "def random20_keywords(key_word_file):\n",
    "    # random get 20 current key words for searching\n",
    "    housing_words = random.choices(key_word_file['housing'], k=10)\n",
    "    income_words = random.choices(key_word_file['income'], k=10)\n",
    "    mel_words = random.choices(key_word_file['Melbourne'], k=10)\n",
    "    # convert these keywords into a string\n",
    "    only_housing = '\" OR \"'.join(housing_words)\n",
    "    only_housing = '\"' + only_housing + '\"'\n",
    "    only_income = '\" OR \"'.join(income_words)\n",
    "    only_income = '\"' + only_income + '\"'\n",
    "    income_housing = only_housing + ' OR ' + only_income\n",
    "    mel_housing = '\" OR \"'.join(mel_words)\n",
    "    mel_housing = only_housing + ' OR \"' + mel_housing + '\"'\n",
    "    return income_housing"
   ]
  },
  {
   "cell_type": "code",
   "execution_count": 7,
   "id": "55e665e1",
   "metadata": {},
   "outputs": [],
   "source": [
    "def select_a_valid_twitter_key(twitter_keys_file):\n",
    "    # get all valid twitter keys\n",
    "    current_valid_keys = []\n",
    "    least_wait_in_s = 0\n",
    "    get_key = []\n",
    "    while True:\n",
    "        for key in twitter_keys[\"keys\"]:\n",
    "            if key[\"flag\"] == \"False\":\n",
    "                current_valid_keys.append(key)\n",
    "        if len(current_valid_keys) == 0:\n",
    "            print(\"Wait {WAIT} seconds for Available Twitter Key\")\n",
    "            time.sleep(WAIT)\n",
    "        else:\n",
    "            for valid_key in current_valid_keys:\n",
    "                duration = datetime.datetime.now() - datetime.datetime.strptime(valid_key[\"last_used\"], FMT)\n",
    "                duration_in_s = duration.total_seconds()\n",
    "                \n",
    "                if duration_in_s >= LIMIT_IN_SEC:\n",
    "                    get_key.append(valid_key)\n",
    "                    print(\"Find a valid twitter key:\", get_key[0][\"id\"])\n",
    "                    # get twitter API\n",
    "                    consumer_key = get_key[0][\"detail\"][\"TWITTER_API_KEY\"]\n",
    "                    consumer_secret = get_key[0][\"detail\"][\"TWITTER_API_KEY_SECRET\"]\n",
    "                    bearer_token = get_key[0][\"detail\"][\"TWITTER_BEARER_TOKEN\"]\n",
    "                    access_token = get_key[0][\"detail\"][\"TWITTER_ACCESS_TOKEN\"]\n",
    "                    access_token_secret = get_key[0][\"detail\"][\"TWITTER_ACCESS_SECRET\"]\n",
    "                    auth = tweepy.OAuthHandler(consumer_key, consumer_secret)\n",
    "                    auth.set_access_token(access_token, access_token_secret)\n",
    "                    api = tweepy.API(auth)\n",
    "                    \n",
    "                else:\n",
    "                    least_wait_in_s = max(least_wait_in_s, duration_in_s)\n",
    "                    \n",
    "            if get_key == 0:\n",
    "                wait_time_in_s = LIMIT_IN_SEC - least_wait_in_s\n",
    "                print(\"Wait {Wait_time_in_s} seconds for Available Twitter key\")\n",
    "                time.sleep(wait_time_in_s)\n",
    "                \n",
    "            else:\n",
    "                # update the selected twitter key's state\n",
    "                position = get_key[0][\"id\"] - 1\n",
    "                print(\"Get a Valid twitter key and Updated its state\")\n",
    "                with open('twitter_keys.json', 'r') as f:\n",
    "                    update_key_state = json.load(f)\n",
    "                    keys = update_key_state['keys']\n",
    "                    keys[position]['flag'] = 'True'\n",
    "\n",
    "                with open('twitter_keys.json', 'w') as f:\n",
    "                    json.dump(update_key_state, f, indent=2)\n",
    "                    \n",
    "            return api, position"
   ]
  },
  {
   "cell_type": "code",
   "execution_count": 8,
   "id": "44aea6b6",
   "metadata": {},
   "outputs": [
    {
     "name": "stdout",
     "output_type": "stream",
     "text": [
      "Find a valid twitter key: 2\n",
      "Find a valid twitter key: 2\n",
      "Get a Valid twitter key and Updated its state\n",
      "{'id': '1518837604518887424', 'content': '@DrBrittGalb @BankerResting @MarieBriscombe @ValinVigo @amor_vuelveTX @OliverReAnimate @MistyKitty3 @ElizGriff2016… https://t.co/h9WIsGJkiP', 'coordinates': None, 'place': 'None', 'user_location': 'Albert Park, Melbourne', 'created_date': '2022-04-26'}\n",
      "Sucessfully saved to Couchdb\n"
     ]
    },
    {
     "ename": "KeyboardInterrupt",
     "evalue": "",
     "output_type": "error",
     "traceback": [
      "\u001b[0;31m---------------------------------------------------------------------------\u001b[0m",
      "\u001b[0;31mKeyboardInterrupt\u001b[0m                         Traceback (most recent call last)",
      "\u001b[0;32m/var/folders/3h/x2xrdjwn22bbdw5d98hd13w80000gn/T/ipykernel_97691/3883809188.py\u001b[0m in \u001b[0;36m<module>\u001b[0;34m\u001b[0m\n\u001b[1;32m      9\u001b[0m \u001b[0;32mwhile\u001b[0m \u001b[0;32mTrue\u001b[0m\u001b[0;34m:\u001b[0m\u001b[0;34m\u001b[0m\u001b[0;34m\u001b[0m\u001b[0m\n\u001b[1;32m     10\u001b[0m     \u001b[0;32mtry\u001b[0m\u001b[0;34m:\u001b[0m\u001b[0;34m\u001b[0m\u001b[0;34m\u001b[0m\u001b[0m\n\u001b[0;32m---> 11\u001b[0;31m         \u001b[0;32mfor\u001b[0m \u001b[0mtweet\u001b[0m \u001b[0;32min\u001b[0m \u001b[0mtweets\u001b[0m\u001b[0;34m:\u001b[0m\u001b[0;34m\u001b[0m\u001b[0;34m\u001b[0m\u001b[0m\n\u001b[0m\u001b[1;32m     12\u001b[0m             \u001b[0mtweet_id\u001b[0m \u001b[0;34m=\u001b[0m \u001b[0mtweet\u001b[0m\u001b[0;34m.\u001b[0m\u001b[0mid\u001b[0m\u001b[0;34m\u001b[0m\u001b[0;34m\u001b[0m\u001b[0m\n\u001b[1;32m     13\u001b[0m             \u001b[0mtweet_text\u001b[0m \u001b[0;34m=\u001b[0m \u001b[0mtweet\u001b[0m\u001b[0;34m.\u001b[0m\u001b[0mtext\u001b[0m\u001b[0;34m\u001b[0m\u001b[0;34m\u001b[0m\u001b[0m\n",
      "\u001b[0;32m/opt/anaconda3/lib/python3.9/site-packages/tweepy/cursor.py\u001b[0m in \u001b[0;36m__next__\u001b[0;34m(self)\u001b[0m\n\u001b[1;32m     83\u001b[0m         \u001b[0mself\u001b[0m\u001b[0;34m.\u001b[0m\u001b[0mlimit\u001b[0m \u001b[0;34m=\u001b[0m \u001b[0minf\u001b[0m\u001b[0;34m\u001b[0m\u001b[0;34m\u001b[0m\u001b[0m\n\u001b[1;32m     84\u001b[0m \u001b[0;34m\u001b[0m\u001b[0m\n\u001b[0;32m---> 85\u001b[0;31m     \u001b[0;32mdef\u001b[0m \u001b[0m__next__\u001b[0m\u001b[0;34m(\u001b[0m\u001b[0mself\u001b[0m\u001b[0;34m)\u001b[0m\u001b[0;34m:\u001b[0m\u001b[0;34m\u001b[0m\u001b[0;34m\u001b[0m\u001b[0m\n\u001b[0m\u001b[1;32m     86\u001b[0m         \u001b[0;32mreturn\u001b[0m \u001b[0mself\u001b[0m\u001b[0;34m.\u001b[0m\u001b[0mnext\u001b[0m\u001b[0;34m(\u001b[0m\u001b[0;34m)\u001b[0m\u001b[0;34m\u001b[0m\u001b[0;34m\u001b[0m\u001b[0m\n\u001b[1;32m     87\u001b[0m \u001b[0;34m\u001b[0m\u001b[0m\n",
      "\u001b[0;31mKeyboardInterrupt\u001b[0m: "
     ]
    }
   ],
   "source": [
    "# get twitter key\n",
    "api, position = select_a_valid_twitter_key(twitter_keys)\n",
    "\n",
    "# get query words\n",
    "query = random20_keywords(keywords)\n",
    "\n",
    "# get tweets\n",
    "tweets = tweepy.Cursor(api.search_tweets, q=query, geocode=mel_geo).items() # test to set items(1)\n",
    "while True:\n",
    "    try:\n",
    "        for tweet in tweets:\n",
    "            tweet_id = tweet.id\n",
    "            tweet_text = tweet.text\n",
    "            tweet_coord = tweet.coordinates\n",
    "            tweet_place = tweet.place\n",
    "            tweet_user_location = tweet.user.location\n",
    "            tweet_Date = tweet.created_at.date()\n",
    "            tweet_info = {'id': str(tweet_id), \n",
    "                          'content': tweet_text, \n",
    "                          'coordinates': tweet_coord, \n",
    "                          'place': str(tweet_place),\n",
    "                          'user_location': tweet_user_location,\n",
    "                          'created_date': str(tweet_Date)\n",
    "                         } \n",
    "            print(tweet_info)\n",
    "    \n",
    "            # add to Couchdb\n",
    "            server = couchdb.Server(url)\n",
    "            # Set credentials if necessary\n",
    "            server.resource.credentials = (user, password)\n",
    "            if \"twitter\" not in server:\n",
    "                server.create(\"twitter\")\n",
    "            db = server[\"twitter\"]\n",
    "            if str(tweet_info[\"id\"]) not in db:\n",
    "                tweet_info[\"_id\"] = str(tweet_info[\"id\"])\n",
    "                db.save(tweet_info)\n",
    "                #print(tweet_info)\n",
    "            print(\"Sucessfully saved to Couchdb\")\n",
    "            \n",
    "            # update last used time of current twitter key\n",
    "            with open('twitter_keys.json', 'r') as f:\n",
    "                update_key_state = json.load(f)\n",
    "                keys = update_key_state['keys']\n",
    "                keys[position]['last_used'] = datetime.datetime.now().strftime(FMT)\n",
    "\n",
    "            with open('twitter_keys.json', 'w') as f:\n",
    "                json.dump(update_key_state, f, indent=2)\n",
    "        \n",
    "    except tweepy.errors.TweepyException as e:\n",
    "        print(\"Error:\", e)\n",
    "        \n",
    "        # update current twitter key's state\n",
    "        with open('twitter_keys.json', 'r') as f:\n",
    "            update_key_state = json.load(f)\n",
    "            keys = update_key_state['keys']\n",
    "            keys[position]['flag'] = 'False'\n",
    "\n",
    "        with open('twitter_keys.json', 'w') as f:\n",
    "            json.dump(update_key_state, f, indent=2)\n",
    "            \n",
    "        query = random20_keywords(keywords)\n",
    "        api = select_a_valid_twitter_key(twitter_keys)\n",
    "        tweets = tweepy.Cursor(api.search_tweets, q=query, geocode=mel_geo).items()      \n",
    "        \n",
    "    except StopIteration:\n",
    "        continue\n",
    "    "
   ]
  },
  {
   "cell_type": "code",
   "execution_count": null,
   "id": "4024a880",
   "metadata": {},
   "outputs": [],
   "source": []
  }
 ],
 "metadata": {
  "kernelspec": {
   "display_name": "Python 3 (ipykernel)",
   "language": "python",
   "name": "python3"
  },
  "language_info": {
   "codemirror_mode": {
    "name": "ipython",
    "version": 3
   },
   "file_extension": ".py",
   "mimetype": "text/x-python",
   "name": "python",
   "nbconvert_exporter": "python",
   "pygments_lexer": "ipython3",
   "version": "3.9.7"
  }
 },
 "nbformat": 4,
 "nbformat_minor": 5
}
